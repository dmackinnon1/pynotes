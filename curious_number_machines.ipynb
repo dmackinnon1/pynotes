{
 "cells": [
  {
   "cell_type": "markdown",
   "metadata": {},
   "source": [
    "# A Curious Number Machine\n",
    "\n",
    "This notebook explores the number machines described by Raymond Smullyan in his book \"The Lady or the Tiger.\" \n",
    "The characters in the discussion are Inspector Leslie Craig of Scotland Yard and his friend, the inventor Norman McCulloch.\n",
    "> Now this story takes place in the days before modern computers were invented, but McCulloch had put together a crude mechanical computer of a sort.\n",
    "\n",
    "McCulloch explains how his mahcine works with numbers:\n",
    ">(McCulloch) To be gin with, by a number I mean a positive whole number... the only numbers my machine handles are those in which 0 does not occur... given two numbers N, M, by NM I don't mean N times M! By NM I mean the number obtained by first writing the digits of N in the order in which they occur, then following it by the digits of M."
   ]
  },
  {
   "cell_type": "code",
   "execution_count": 21,
   "metadata": {},
   "outputs": [],
   "source": [
    "#some utilities\n",
    "def head(x):\n",
    "    if (x == None):\n",
    "        return None\n",
    "    return int(str(x)[0])\n",
    "\n",
    "def tail(x):\n",
    "    if (x == None):\n",
    "        return None\n",
    "    if (len(str(x))<2):\n",
    "        return None\n",
    "    return int(str(x)[1:len(str(x))])\n",
    "\n",
    "def hasZero(x):\n",
    "    return str(x).find(\"0\") != -1\n",
    "\n",
    "def cat(x,y):\n",
    "    return int(str(x) + str(y))"
   ]
  },
  {
   "cell_type": "code",
   "execution_count": 22,
   "metadata": {},
   "outputs": [
    {
     "name": "stdout",
     "output_type": "stream",
     "text": [
      "True\n",
      "False\n",
      "5\n",
      "67\n",
      "123456\n"
     ]
    }
   ],
   "source": [
    "print(hasZero(301))\n",
    "print(hasZero(333))\n",
    "print(head(567))\n",
    "print(tail(567))\n",
    "print(cat(123, 456))"
   ]
  },
  {
   "cell_type": "markdown",
   "metadata": {},
   "source": [
    "## Rule 1\n",
    "> (McCulloch) Let me explain to you the rules of operation. I say X produces a number Y, meaning that X is acceptable and when X is put into the machine, Y is the number that comes out. The first rule is as follows:\n",
    ">Rule 1: For any number X, 2X is acceptable (2 followed by X, not 2 times X) and 2X produces X."
   ]
  },
  {
   "cell_type": "code",
   "execution_count": 23,
   "metadata": {},
   "outputs": [],
   "source": [
    "def rule1(x):\n",
    "    if (head(x) == 2):\n",
    "        if (tail(x) != None):\n",
    "            return int(tail(x))\n",
    "\n",
    "def rule2(x):\n",
    "    return None\n",
    "\n",
    "def machine(x):\n",
    "    y = rule1(x)\n",
    "    if (y != None):\n",
    "        return y\n",
    "    y = rule2(x)\n",
    "    if (y != None):\n",
    "        return y\n",
    "    return None"
   ]
  },
  {
   "cell_type": "code",
   "execution_count": 24,
   "metadata": {},
   "outputs": [
    {
     "name": "stdout",
     "output_type": "stream",
     "text": [
      "1\n",
      "None\n",
      "29\n"
     ]
    }
   ],
   "source": [
    "print(machine(201))\n",
    "print(machine(301))\n",
    "print(machine(229))"
   ]
  },
  {
   "cell_type": "markdown",
   "metadata": {},
   "source": [
    "## Rule 2\n",
    ">(McCulloch) For any number X, the number X2X plays a particularly prominent role; I call the number X2X the associate of the number X. \n",
    "Rule 2: For any numbers X and Y, if X produces Y, then 3X produces the associate of Y."
   ]
  },
  {
   "cell_type": "code",
   "execution_count": 25,
   "metadata": {},
   "outputs": [],
   "source": [
    "def associate(x):\n",
    "    if (x == None):\n",
    "        return None\n",
    "    return int(str(x) + \"2\" + str(x)) \n",
    "\n",
    "def rule2(x):\n",
    "    if (x == None):\n",
    "        return None \n",
    "    if (head(x) != 3):\n",
    "        return None\n",
    "    y = machine(tail(x))\n",
    "    if (y != None):\n",
    "        return associate(y)"
   ]
  },
  {
   "cell_type": "code",
   "execution_count": 26,
   "metadata": {},
   "outputs": [
    {
     "name": "stdout",
     "output_type": "stream",
     "text": [
      "727\n",
      "5862586\n",
      "7272727\n",
      "None\n"
     ]
    }
   ],
   "source": [
    "print(machine(327))\n",
    "print(machine(32586))\n",
    "print(machine(3327))\n",
    "print(machine(3332))\n"
   ]
  },
  {
   "cell_type": "markdown",
   "metadata": {},
   "source": [
    "## Some Curious Properties\n",
    "> (Craig) ... I would like to know just what are the curious features of this machine to which you alluded.\n",
    "(McCulloch) To begin with a simple example... there is a number N which produces itself; when you put the number N in, N comes out. Can you find such a number?"
   ]
  },
  {
   "cell_type": "code",
   "execution_count": 46,
   "metadata": {},
   "outputs": [
    {
     "name": "stdout",
     "output_type": "stream",
     "text": [
      "323\n",
      "323\n",
      "True\n"
     ]
    }
   ],
   "source": [
    "x = 323\n",
    "x1 = machine(x)\n",
    "print(x)\n",
    "print(x1)\n",
    "print(x == x1)"
   ]
  },
  {
   "cell_type": "markdown",
   "metadata": {},
   "source": [
    ">(McCulloch) There is a number N which produces its own associate, when you put N in N2N comes out."
   ]
  },
  {
   "cell_type": "code",
   "execution_count": 47,
   "metadata": {},
   "outputs": [
    {
     "name": "stdout",
     "output_type": "stream",
     "text": [
      "33233\n",
      "33233233233\n",
      "33233233233\n",
      "True\n"
     ]
    }
   ],
   "source": [
    "x = 33233\n",
    "x1 = machine(x)\n",
    "x2 = associate(x)\n",
    "print(x)\n",
    "print(x1)\n",
    "print(x2)\n",
    "print(x1 == x2)"
   ]
  },
  {
   "cell_type": "code",
   "execution_count": null,
   "metadata": {},
   "outputs": [],
   "source": []
  }
 ],
 "metadata": {
  "kernelspec": {
   "display_name": "Python 3",
   "language": "python",
   "name": "python3"
  },
  "language_info": {
   "codemirror_mode": {
    "name": "ipython",
    "version": 3
   },
   "file_extension": ".py",
   "mimetype": "text/x-python",
   "name": "python",
   "nbconvert_exporter": "python",
   "pygments_lexer": "ipython3",
   "version": "3.5.2"
  }
 },
 "nbformat": 4,
 "nbformat_minor": 2
}
