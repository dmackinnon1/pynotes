{
 "cells": [
  {
   "cell_type": "markdown",
   "metadata": {},
   "source": [
    "# A Curious Number Machine\n",
    "\n",
    "This notebook explores the number machines described by Raymond Smullyan in his book \"The Lady or the Tiger.\" \n",
    "The characters in the discussion are Inspector Leslie Craig of Scotland Yard and his friend, the inventor Norman McCulloch.\n",
    "> Now this story takes place in the days before modern computers were invented, but McCulloch had put together a crude mechanical computer of a sort.\n",
    "\n",
    "McCulloch explains how his mahcine works with numbers:\n",
    ">(McCulloch) To begin with, by a number I mean a positive whole number... the only numbers my machine handles are those in which 0 does not occur... given two numbers N, M, by NM I don't mean N times M! By NM I mean the number obtained by first writing the digits of N in the order in which they occur, then following it by the digits of M."
   ]
  },
  {
   "cell_type": "code",
   "execution_count": 44,
   "metadata": {},
   "outputs": [],
   "source": [
    "#some utilities\n",
    "def head(x):\n",
    "    if (x == None):\n",
    "        return None\n",
    "    return int(str(x)[0])\n",
    "\n",
    "def tail(x):\n",
    "    if (x == None):\n",
    "        return None\n",
    "    if (len(str(x))<2):\n",
    "        return None\n",
    "    return int(str(x)[1:len(str(x))])\n",
    "\n",
    "def hasZero(x):\n",
    "    return str(x).find(\"0\") != -1\n",
    "\n",
    "def cat(x,y):\n",
    "    return int(str(x) + str(y))"
   ]
  },
  {
   "cell_type": "code",
   "execution_count": 45,
   "metadata": {},
   "outputs": [
    {
     "name": "stdout",
     "output_type": "stream",
     "text": [
      "True\n",
      "False\n",
      "5\n",
      "67\n",
      "123456\n"
     ]
    }
   ],
   "source": [
    "print(hasZero(301))\n",
    "print(hasZero(333))\n",
    "print(head(567))\n",
    "print(tail(567))\n",
    "print(cat(123, 456))"
   ]
  },
  {
   "cell_type": "markdown",
   "metadata": {},
   "source": [
    "## Rule 1\n",
    "> (McCulloch) Let me explain to you the rules of operation. I say X produces a number Y, meaning that X is acceptable and when X is put into the machine, Y is the number that comes out. The first rule is as follows:\n",
    ">Rule 1: For any number X, 2X is acceptable (2 followed by X, not 2 times X) and 2X produces X."
   ]
  },
  {
   "cell_type": "code",
   "execution_count": 46,
   "metadata": {},
   "outputs": [],
   "source": [
    "def rule1(x):\n",
    "    if (head(x) == 2):\n",
    "        if (tail(x) != None):\n",
    "            return int(tail(x))\n",
    "\n",
    "def rule2(x):\n",
    "    return None\n",
    "\n",
    "def machine(x):\n",
    "    y = rule1(x)\n",
    "    if (y != None):\n",
    "        return y\n",
    "    y = rule2(x)\n",
    "    if (y != None):\n",
    "        return y\n",
    "    return None"
   ]
  },
  {
   "cell_type": "code",
   "execution_count": 47,
   "metadata": {},
   "outputs": [
    {
     "name": "stdout",
     "output_type": "stream",
     "text": [
      "1\n",
      "None\n",
      "29\n"
     ]
    }
   ],
   "source": [
    "print(machine(201))\n",
    "print(machine(301))\n",
    "print(machine(229))"
   ]
  },
  {
   "cell_type": "markdown",
   "metadata": {},
   "source": [
    "## Rule 2\n",
    ">(McCulloch) For any number X, the number X2X plays a particularly prominent role; I call the number X2X the associate of the number X. \n",
    "Rule 2: For any numbers X and Y, if X produces Y, then 3X produces the associate of Y."
   ]
  },
  {
   "cell_type": "code",
   "execution_count": 48,
   "metadata": {},
   "outputs": [],
   "source": [
    "def associate(x):\n",
    "    if (x == None):\n",
    "        return None\n",
    "    return int(str(x) + \"2\" + str(x)) \n",
    "\n",
    "def rule2(x):\n",
    "    if (x == None):\n",
    "        return None \n",
    "    if (head(x) != 3):\n",
    "        return None\n",
    "    y = machine(tail(x))\n",
    "    if (y != None):\n",
    "        return associate(y)"
   ]
  },
  {
   "cell_type": "code",
   "execution_count": 49,
   "metadata": {},
   "outputs": [
    {
     "name": "stdout",
     "output_type": "stream",
     "text": [
      "727\n",
      "5862586\n",
      "7272727\n",
      "None\n"
     ]
    }
   ],
   "source": [
    "print(machine(327))\n",
    "print(machine(32586))\n",
    "print(machine(3327))\n",
    "print(machine(3332))\n"
   ]
  },
  {
   "cell_type": "markdown",
   "metadata": {},
   "source": [
    "## Some Curious Properties\n",
    "> (Craig) ... I would like to know just what are the curious features of this machine to which you alluded.\n",
    "\n",
    ">(McCulloch) To begin with a simple example... there is a number N which produces itself; when you put the number N in, N comes out. Can you find such a number?"
   ]
  },
  {
   "cell_type": "code",
   "execution_count": 50,
   "metadata": {},
   "outputs": [
    {
     "name": "stdout",
     "output_type": "stream",
     "text": [
      "323\n",
      "323\n",
      "True\n"
     ]
    }
   ],
   "source": [
    "x = 323\n",
    "x1 = machine(x)\n",
    "print(x)\n",
    "print(x1)\n",
    "print(x == x1)"
   ]
  },
  {
   "cell_type": "markdown",
   "metadata": {},
   "source": [
    "**The number 323 is a fixed point for McCulloch's machine.**"
   ]
  },
  {
   "cell_type": "markdown",
   "metadata": {},
   "source": [
    ">(McCulloch) There is a number N which produces its own associate, when you put N in N2N comes out."
   ]
  },
  {
   "cell_type": "code",
   "execution_count": 51,
   "metadata": {},
   "outputs": [
    {
     "name": "stdout",
     "output_type": "stream",
     "text": [
      "33233\n",
      "33233233233\n",
      "33233233233\n",
      "True\n"
     ]
    }
   ],
   "source": [
    "x = 33233\n",
    "x1 = machine(x)\n",
    "x2 = associate(x)\n",
    "print(x)\n",
    "print(x1)\n",
    "print(x2)\n",
    "print(x1 == x2)"
   ]
  },
  {
   "cell_type": "markdown",
   "metadata": {},
   "source": [
    "Embedding the fixed point 323 inside of 3x3 gives the number that maps to its own associate.\n",
    "So, for A = 33233, then machine(A) = associate(A)."
   ]
  },
  {
   "cell_type": "markdown",
   "metadata": {},
   "source": [
    "> (McCulloch) Next, there is a number N which produces 7N, can you find it?"
   ]
  },
  {
   "cell_type": "code",
   "execution_count": 53,
   "metadata": {},
   "outputs": [
    {
     "name": "stdout",
     "output_type": "stream",
     "text": [
      "323-->323, 7N:7323 equal: False\n",
      "3273-->73273, 7N:73273 equal: True\n"
     ]
    }
   ],
   "source": [
    "def map7(x):\n",
    "    result = str(cat(7,x) == machine(x))\n",
    "    print (str(x) + \"-->\" + str(machine(x)) + \", 7N:\" + str(cat(7,x)) + \" equal: \" + result)\n",
    "\n",
    "# start building off the identity\n",
    "map7(323)\n",
    "map7(3273)"
   ]
  },
  {
   "cell_type": "markdown",
   "metadata": {},
   "source": [
    "Again for this case, building off the fixed point 323, we find that if N = 3273, machine(N) = 7N."
   ]
  },
  {
   "cell_type": "markdown",
   "metadata": {},
   "source": [
    "> (McColloch) Is there a number N such that 3N produces the associate of N? i.e. 3N --> N2N"
   ]
  },
  {
   "cell_type": "code",
   "execution_count": 75,
   "metadata": {},
   "outputs": [
    {
     "name": "stdout",
     "output_type": "stream",
     "text": [
      "323\n",
      "3232323\n"
     ]
    }
   ],
   "source": [
    "print(machine(323))\n",
    "print(machine(3323))"
   ]
  },
  {
   "cell_type": "markdown",
   "metadata": {},
   "source": [
    "Building off the fixed point F = 323. By rule 2, 3F produces the associate of what F produces, but F just produces F, so 3F will produce F2F as required.\n",
    "So, the N we want here is just the fixed point F = 323."
   ]
  },
  {
   "cell_type": "markdown",
   "metadata": {},
   "source": [
    "> (McColloch) And is there an N which produces the associate of 3N.\n",
    "\n",
    "The associate of 3N would be 3N23N."
   ]
  },
  {
   "cell_type": "code",
   "execution_count": 76,
   "metadata": {},
   "outputs": [
    {
     "name": "stdout",
     "output_type": "stream",
     "text": [
      "332333-->333233323332333 | 333233323332333:True\n"
     ]
    }
   ],
   "source": [
    "def map3N(x):\n",
    "    r = str(machine(x) == associate(cat(3,x)) )\n",
    "    print(str(x) + \"-->\" + str(machine(x)) + \" | \" + str(associate(cat(3,x))) + \":\" + r)\n",
    "\n",
    "map3N(332333)"
   ]
  },
  {
   "cell_type": "markdown",
   "metadata": {},
   "source": [
    "## McCulloch's Law"
   ]
  },
  {
   "cell_type": "markdown",
   "metadata": {},
   "source": [
    "Along the way, we noticed that N = 3233 produces 3N, just as N = 3273 produces 7N. Generally N=32X3 produces X32X3. This principle will be called *McCulloch's Law*"
   ]
  },
  {
   "cell_type": "code",
   "execution_count": 80,
   "metadata": {},
   "outputs": [
    {
     "name": "stdout",
     "output_type": "stream",
     "text": [
      "53253\n"
     ]
    }
   ],
   "source": [
    "print(machine(3253))"
   ]
  },
  {
   "cell_type": "markdown",
   "metadata": {},
   "source": [
    ">(McColloch) Now, given a number A, is there necessarily some Y such that Y produces the associate of AY? for example, is there a number Y that produces the associate of 56Y, and if so, what number does this?"
   ]
  },
  {
   "cell_type": "markdown",
   "metadata": {},
   "source": [
    "We saw that N = 332333 produced the associate of 3N... so replacing one of those 3's with A may work..."
   ]
  },
  {
   "cell_type": "code",
   "execution_count": 81,
   "metadata": {},
   "outputs": [
    {
     "data": {
      "text/plain": [
       "533253325332533"
      ]
     },
     "execution_count": 81,
     "metadata": {},
     "output_type": "execute_result"
    }
   ],
   "source": [
    "machine(332533)"
   ]
  },
  {
   "cell_type": "code",
   "execution_count": null,
   "metadata": {},
   "outputs": [],
   "source": []
  }
 ],
 "metadata": {
  "kernelspec": {
   "display_name": "Python 3",
   "language": "python",
   "name": "python3"
  },
  "language_info": {
   "codemirror_mode": {
    "name": "ipython",
    "version": 3
   },
   "file_extension": ".py",
   "mimetype": "text/x-python",
   "name": "python",
   "nbconvert_exporter": "python",
   "pygments_lexer": "ipython3",
   "version": "3.5.2"
  }
 },
 "nbformat": 4,
 "nbformat_minor": 2
}
