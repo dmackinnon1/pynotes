{
 "cells": [
  {
   "cell_type": "markdown",
   "metadata": {},
   "source": [
    "# Notebooks for The Mystery of the Monte Carlo Lock \n",
    "Part 3 of \"The Lady or the Tiger?\" by Raymond Smullyan features explorations of various \"number machines,\" casting light on concepts of computation and computability.\n",
    "\n",
    "The first notebook in this set is [here](the_mystery_of_the_monte_carlo_lock.ipynb).\n",
    "\n",
    "Below are some utilities defined in previous sections."
   ]
  },
  {
   "cell_type": "code",
   "execution_count": 2,
   "metadata": {},
   "outputs": [],
   "source": [
    "#some utilities\n",
    "def head(x):\n",
    "    if (x == None):\n",
    "        return None\n",
    "    return int(str(x)[0])\n",
    "\n",
    "def tail(x):\n",
    "    if (x == None):\n",
    "        return None\n",
    "    if (len(str(x))<2):\n",
    "        return None\n",
    "    return int(str(x)[1:len(str(x))])\n",
    "\n",
    "def hasZero(x):\n",
    "    return str(x).find(\"0\") != -1\n",
    "\n",
    "def cat(x,y):\n",
    "    return int(str(x) + str(y))"
   ]
  },
  {
   "cell_type": "markdown",
   "metadata": {},
   "source": [
    "And the initial rules of the number machines that Craig and McCulloch are investigating."
   ]
  },
  {
   "cell_type": "code",
   "execution_count": 3,
   "metadata": {},
   "outputs": [],
   "source": [
    "def rule1(x):\n",
    "    if (head(x) == 2):\n",
    "        if (tail(x) != None):\n",
    "            return int(tail(x))\n",
    "\n",
    "def associate(x):\n",
    "    if (x == None):\n",
    "        return None\n",
    "    return int(str(x) + \"2\" + str(x)) \n",
    "\n",
    "def rule2(x):\n",
    "    if (x == None):\n",
    "        return None \n",
    "    if (head(x) != 3):\n",
    "        return None\n",
    "    y = machine(tail(x))\n",
    "    if (y != None):\n",
    "        return associate(y)\n",
    "\n",
    "def machine(x):\n",
    "    if (hasZero(x)):\n",
    "        return None\n",
    "    y = rule1(x)\n",
    "    if (y != None):\n",
    "        return y\n",
    "    y = rule2(x)\n",
    "    if (y != None):\n",
    "        return y\n",
    "    return None"
   ]
  },
  {
   "cell_type": "markdown",
   "metadata": {},
   "source": [
    "## Craig's Law\n",
    "> (Craig) I have heard that you enlarged your machine.\n",
    "\n",
    ">(McCulloch) My new machine obeys Rules 1 and 2 of my old machine, and in addition, it has two other rules... here is the first of my additional rules:\n",
    "> Rule 3: For any numbers X, if X produces Y then 4X produces the reverse of Y."
   ]
  },
  {
   "cell_type": "code",
   "execution_count": 4,
   "metadata": {},
   "outputs": [],
   "source": [
    "def rev(x):\n",
    "    if (x == None):\n",
    "        return None\n",
    "    return int(str(x)[::-1])"
   ]
  },
  {
   "cell_type": "code",
   "execution_count": 5,
   "metadata": {},
   "outputs": [
    {
     "data": {
      "text/plain": [
       "21"
      ]
     },
     "execution_count": 5,
     "metadata": {},
     "output_type": "execute_result"
    }
   ],
   "source": [
    "rev(12)"
   ]
  },
  {
   "cell_type": "code",
   "execution_count": 6,
   "metadata": {},
   "outputs": [],
   "source": [
    "def rule3(x):\n",
    "    if (head(x) ==  4):\n",
    "        y = machine(tail(x))\n",
    "        if (y != None):\n",
    "            return rev(y)\n",
    "    \n",
    "def machine(x):\n",
    "    y = rule1(x)\n",
    "    if (y != None):\n",
    "        return y\n",
    "    y = rule2(x)\n",
    "    if (y != None):\n",
    "        return y\n",
    "    return rule3(x)"
   ]
  },
  {
   "cell_type": "markdown",
   "metadata": {},
   "source": [
    ">(McCulloch) Let's take an X that produces 7695, 27695, and put 427695 and see what happens "
   ]
  },
  {
   "cell_type": "code",
   "execution_count": 7,
   "metadata": {},
   "outputs": [
    {
     "data": {
      "text/plain": [
       "5967"
      ]
     },
     "execution_count": 7,
     "metadata": {},
     "output_type": "execute_result"
    }
   ],
   "source": [
    "machine(427695)\n"
   ]
  },
  {
   "cell_type": "markdown",
   "metadata": {},
   "source": [
    "> (McCulloch) Before I show you the next rule,... uou recall that the number 323 produces itself... with my present machine the situation is different. Can you find another number that produces itself?"
   ]
  },
  {
   "cell_type": "code",
   "execution_count": 8,
   "metadata": {},
   "outputs": [
    {
     "name": "stdout",
     "output_type": "stream",
     "text": [
      "43243\n",
      "424\n",
      "4342434\n"
     ]
    }
   ],
   "source": [
    "print(machine(43234))\n",
    "print(machine(4324))\n",
    "print(machine(432434))"
   ]
  },
  {
   "cell_type": "code",
   "execution_count": 9,
   "metadata": {},
   "outputs": [
    {
     "name": "stdout",
     "output_type": "stream",
     "text": [
      "34421-->121\n"
     ]
    }
   ],
   "source": [
    "x = 34421\n",
    "print(str(x) + \"-->\" + str(machine(x)))"
   ]
  },
  {
   "cell_type": "code",
   "execution_count": 10,
   "metadata": {},
   "outputs": [
    {
     "name": "stdout",
     "output_type": "stream",
     "text": [
      "3442344-->3442344\n"
     ]
    }
   ],
   "source": [
    "x = 3442344\n",
    "print(str(x) + \"-->\" + str(machine(x)))"
   ]
  },
  {
   "cell_type": "code",
   "execution_count": 11,
   "metadata": {},
   "outputs": [
    {
     "name": "stdout",
     "output_type": "stream",
     "text": [
      "34444234444-->34444234444\n"
     ]
    }
   ],
   "source": [
    "x = 34444234444\n",
    "print(str(x) + \"-->\" + str(machine(x)))"
   ]
  },
  {
   "cell_type": "code",
   "execution_count": 15,
   "metadata": {},
   "outputs": [
    {
     "name": "stdout",
     "output_type": "stream",
     "text": [
      "323-->323\n"
     ]
    }
   ],
   "source": [
    "x = 323\n",
    "print(str(x) + \"-->\" + str(machine(x)))"
   ]
  },
  {
   "cell_type": "markdown",
   "metadata": {},
   "source": [
    ">Rule 4: If X produces Y, then 5X produces YY, YY is the repeat of Y."
   ]
  },
  {
   "cell_type": "code",
   "execution_count": 16,
   "metadata": {},
   "outputs": [],
   "source": [
    "def repeat(x):\n",
    "    if(x != None):\n",
    "        return cat(x,x)"
   ]
  },
  {
   "cell_type": "code",
   "execution_count": 17,
   "metadata": {},
   "outputs": [
    {
     "data": {
      "text/plain": [
       "44"
      ]
     },
     "execution_count": 17,
     "metadata": {},
     "output_type": "execute_result"
    }
   ],
   "source": [
    "repeat(4)"
   ]
  },
  {
   "cell_type": "code",
   "execution_count": null,
   "metadata": {},
   "outputs": [],
   "source": []
  },
  {
   "cell_type": "code",
   "execution_count": null,
   "metadata": {},
   "outputs": [],
   "source": []
  },
  {
   "cell_type": "code",
   "execution_count": null,
   "metadata": {},
   "outputs": [],
   "source": []
  }
 ],
 "metadata": {
  "kernelspec": {
   "display_name": "Python 3",
   "language": "python",
   "name": "python3"
  },
  "language_info": {
   "codemirror_mode": {
    "name": "ipython",
    "version": 3
   },
   "file_extension": ".py",
   "mimetype": "text/x-python",
   "name": "python",
   "nbconvert_exporter": "python",
   "pygments_lexer": "ipython3",
   "version": "3.5.2"
  }
 },
 "nbformat": 4,
 "nbformat_minor": 2
}
