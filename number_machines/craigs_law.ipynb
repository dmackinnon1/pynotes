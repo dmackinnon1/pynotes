{
 "cells": [
  {
   "cell_type": "markdown",
   "metadata": {},
   "source": [
    "# Notebooks for The Mystery of the Monte Carlo Lock \n",
    "\n",
    "The first notebook in this set is [here](the_mystery_of_the_monte_carlo_lock.ipynb).\n",
    "\n",
    "Below are some utilities defined in previous sections."
   ]
  },
  {
   "cell_type": "code",
   "execution_count": 1,
   "metadata": {},
   "outputs": [],
   "source": [
    "#some utilities\n",
    "def head(x):\n",
    "    if (x == None):\n",
    "        return None\n",
    "    return int(str(x)[0])\n",
    "\n",
    "def tail(x):\n",
    "    if (x == None):\n",
    "        return None\n",
    "    if (len(str(x))<2):\n",
    "        return None\n",
    "    return int(str(x)[1:len(str(x))])\n",
    "\n",
    "def hasZero(x):\n",
    "    return str(x).find(\"0\") != -1\n",
    "\n",
    "def cat(x,y):\n",
    "    return int(str(x) + str(y))"
   ]
  },
  {
   "cell_type": "markdown",
   "metadata": {},
   "source": [
    "And the initial rules of the number machines that Craig and McCulloch are investigating."
   ]
  },
  {
   "cell_type": "code",
   "execution_count": 2,
   "metadata": {},
   "outputs": [],
   "source": [
    "def rule1(x):\n",
    "    if (head(x) == 2):\n",
    "        if (tail(x) != None):\n",
    "            return int(tail(x))\n",
    "\n",
    "def associate(x):\n",
    "    if (x == None):\n",
    "        return None\n",
    "    return int(str(x) + \"2\" + str(x)) \n",
    "\n",
    "def rule2(x):\n",
    "    if (x == None):\n",
    "        return None \n",
    "    if (head(x) != 3):\n",
    "        return None\n",
    "    y = machine(tail(x))\n",
    "    if (y != None):\n",
    "        return associate(y)\n",
    "\n",
    "def machine(x):\n",
    "    if (hasZero(x)):\n",
    "        return None\n",
    "    y = rule1(x)\n",
    "    if (y != None):\n",
    "        return y\n",
    "    y = rule2(x)\n",
    "    if (y != None):\n",
    "        return y\n",
    "    return None"
   ]
  },
  {
   "cell_type": "markdown",
   "metadata": {},
   "source": [
    "## Craig's Law\n",
    "> (Craig) I have heard that you enlarged your machine.\n",
    "\n",
    ">(McCulloch) My new machine obeys Rules 1 and 2 of my old machine, and in addition, it has two other rules... here is the first of my additional rules:\n",
    "> Rule 3: For any numbers X, if X produces Y then 4X produces the reverse of Y."
   ]
  },
  {
   "cell_type": "code",
   "execution_count": 3,
   "metadata": {},
   "outputs": [],
   "source": [
    "def rev(x):\n",
    "    if (x == None):\n",
    "        return None\n",
    "    return int(str(x)[::-1])"
   ]
  },
  {
   "cell_type": "code",
   "execution_count": 4,
   "metadata": {},
   "outputs": [
    {
     "data": {
      "text/plain": [
       "21"
      ]
     },
     "execution_count": 4,
     "metadata": {},
     "output_type": "execute_result"
    }
   ],
   "source": [
    "rev(12)"
   ]
  },
  {
   "cell_type": "code",
   "execution_count": 5,
   "metadata": {},
   "outputs": [],
   "source": [
    "def rule3(x):\n",
    "    if (head(x) ==  4):\n",
    "        y = machine(tail(x))\n",
    "        if (y != None):\n",
    "            return rev(y)\n",
    "    \n",
    "def machine(x):\n",
    "    y = rule1(x)\n",
    "    if (y != None):\n",
    "        return y\n",
    "    y = rule2(x)\n",
    "    if (y != None):\n",
    "        return y\n",
    "    return rule3(x)"
   ]
  },
  {
   "cell_type": "markdown",
   "metadata": {},
   "source": [
    ">(McCulloch) Let's take an X that produces 7695, 27695, and put 427695 and see what happens "
   ]
  },
  {
   "cell_type": "code",
   "execution_count": 6,
   "metadata": {},
   "outputs": [
    {
     "data": {
      "text/plain": [
       "5967"
      ]
     },
     "execution_count": 6,
     "metadata": {},
     "output_type": "execute_result"
    }
   ],
   "source": [
    "machine(427695)\n"
   ]
  },
  {
   "cell_type": "markdown",
   "metadata": {},
   "source": [
    "> (McCulloch) Before I show you the next rule,... you recall that the number 323 produces itself... with my present machine the situation is different. Can you find another number that produces itself?"
   ]
  },
  {
   "cell_type": "code",
   "execution_count": 8,
   "metadata": {},
   "outputs": [
    {
     "name": "stdout",
     "output_type": "stream",
     "text": [
      "34421-->121\n"
     ]
    }
   ],
   "source": [
    "x = 34421\n",
    "print(str(x) + \"-->\" + str(machine(x)))"
   ]
  },
  {
   "cell_type": "code",
   "execution_count": 9,
   "metadata": {},
   "outputs": [
    {
     "name": "stdout",
     "output_type": "stream",
     "text": [
      "3442344-->3442344\n"
     ]
    }
   ],
   "source": [
    "x = 3442344\n",
    "print(str(x) + \"-->\" + str(machine(x)))"
   ]
  },
  {
   "cell_type": "code",
   "execution_count": 10,
   "metadata": {},
   "outputs": [
    {
     "name": "stdout",
     "output_type": "stream",
     "text": [
      "34444234444-->34444234444\n"
     ]
    }
   ],
   "source": [
    "x = 34444234444\n",
    "print(str(x) + \"-->\" + str(machine(x)))"
   ]
  },
  {
   "cell_type": "code",
   "execution_count": 11,
   "metadata": {},
   "outputs": [
    {
     "name": "stdout",
     "output_type": "stream",
     "text": [
      "323-->323\n"
     ]
    }
   ],
   "source": [
    "x = 323\n",
    "print(str(x) + \"-->\" + str(machine(x)))"
   ]
  },
  {
   "cell_type": "code",
   "execution_count": null,
   "metadata": {},
   "outputs": [],
   "source": []
  },
  {
   "cell_type": "markdown",
   "metadata": {},
   "source": [
    "> (McCulloch) With my first machine, which did not have Rule 3, there was no nonsymmetric number that produced its own reverse. But with Rule 3, there is one-in fact, several. Can you find one?\" \n",
    "\n",
    "43243 is one solution: Since 243 produces 43, then 3243 produces the associate of 43 (43243). Therefore, 43243 must produce the reverse of the associate of 43-in other words, the reverse of 43243 (since 43243 is the associate of 43). So 43243 produces its own reverse. "
   ]
  },
  {
   "cell_type": "code",
   "execution_count": 24,
   "metadata": {},
   "outputs": [
    {
     "name": "stdout",
     "output_type": "stream",
     "text": [
      "34234\n"
     ]
    }
   ],
   "source": [
    "print(machine(43243))"
   ]
  },
  {
   "cell_type": "markdown",
   "metadata": {},
   "source": [
    ">Rule 4: If X produces Y, then 5X produces YY, YY is the repeat of Y."
   ]
  },
  {
   "cell_type": "code",
   "execution_count": 12,
   "metadata": {},
   "outputs": [],
   "source": [
    "def repeat(x):\n",
    "    if(x != None):\n",
    "        return cat(x,x)"
   ]
  },
  {
   "cell_type": "code",
   "execution_count": 13,
   "metadata": {},
   "outputs": [
    {
     "data": {
      "text/plain": [
       "44"
      ]
     },
     "execution_count": 13,
     "metadata": {},
     "output_type": "execute_result"
    }
   ],
   "source": [
    "repeat(4)"
   ]
  },
  {
   "cell_type": "code",
   "execution_count": 14,
   "metadata": {},
   "outputs": [],
   "source": [
    "def rule4(x):\n",
    "    if (head(x) ==  5):\n",
    "        y = machine(tail(x))\n",
    "        if (y != None):\n",
    "            return repeat(y)\n",
    "\n",
    "def machine(x):\n",
    "    y = rule1(x)\n",
    "    if (y != None):\n",
    "        return y\n",
    "    y = rule2(x)\n",
    "    if (y != None):\n",
    "        return y\n",
    "    y = rule3(x)\n",
    "    if (y!=None):\n",
    "        return y\n",
    "    return rule4(x)"
   ]
  },
  {
   "cell_type": "code",
   "execution_count": 15,
   "metadata": {},
   "outputs": [
    {
     "data": {
      "text/plain": [
       "55"
      ]
     },
     "execution_count": 15,
     "metadata": {},
     "output_type": "execute_result"
    }
   ],
   "source": [
    "machine(525)"
   ]
  },
  {
   "cell_type": "code",
   "execution_count": 22,
   "metadata": {},
   "outputs": [
    {
     "name": "stdout",
     "output_type": "stream",
     "text": [
      "323\n",
      "3442344\n",
      "5252\n"
     ]
    }
   ],
   "source": [
    "## some fixed points\n",
    "print(machine(323))\n",
    "print(machine(3442344))\n",
    "print(machine(5252))"
   ]
  },
  {
   "cell_type": "code",
   "execution_count": 16,
   "metadata": {},
   "outputs": [
    {
     "data": {
      "text/plain": [
       "52525252"
      ]
     },
     "execution_count": 16,
     "metadata": {},
     "output_type": "execute_result"
    }
   ],
   "source": [
    "machine(55252)"
   ]
  },
  {
   "cell_type": "markdown",
   "metadata": {},
   "source": [
    "Find a number that produces its own repeat. "
   ]
  },
  {
   "cell_type": "code",
   "execution_count": 25,
   "metadata": {},
   "outputs": [
    {
     "data": {
      "text/plain": [
       "5325353253"
      ]
     },
     "execution_count": 25,
     "metadata": {},
     "output_type": "execute_result"
    }
   ],
   "source": [
    "machine(53253)"
   ]
  },
  {
   "cell_type": "code",
   "execution_count": 28,
   "metadata": {},
   "outputs": [
    {
     "data": {
      "text/plain": [
       "4524545245"
      ]
     },
     "execution_count": 28,
     "metadata": {},
     "output_type": "execute_result"
    }
   ],
   "source": [
    "machine(453254)"
   ]
  },
  {
   "cell_type": "markdown",
   "metadata": {},
   "source": [
    "Find a number that produces the reverse of its own repeat. "
   ]
  },
  {
   "cell_type": "markdown",
   "metadata": {},
   "source": []
  },
  {
   "cell_type": "markdown",
   "metadata": {},
   "source": [
    "### OPERATION NUMBERS\n",
    "\"You know,\" said Craig quite suddenly, \"I just realized that almost all these problems can be solved by one general principle! Your machine has a very pretty property; once this is realized, it is possible to solve not only the problems you have given me but an infinite host of others! "
   ]
  }
 ],
 "metadata": {
  "kernelspec": {
   "display_name": "Python 3",
   "language": "python",
   "name": "python3"
  },
  "language_info": {
   "codemirror_mode": {
    "name": "ipython",
    "version": 3
   },
   "file_extension": ".py",
   "mimetype": "text/x-python",
   "name": "python",
   "nbconvert_exporter": "python",
   "pygments_lexer": "ipython3",
   "version": "3.5.2"
  }
 },
 "nbformat": 4,
 "nbformat_minor": 2
}
