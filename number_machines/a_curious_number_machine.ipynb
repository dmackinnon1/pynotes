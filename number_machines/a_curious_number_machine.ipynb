{
 "cells": [
  {
   "cell_type": "markdown",
   "metadata": {},
   "source": [
    "# Notebooks for The Mystery of the Monte Carlo Lock \n",
    "\n",
    "The first notebook in this set is [here](the_mystery_of_the_monte_carlo_lock.ipynb)."
   ]
  },
  {
   "cell_type": "markdown",
   "metadata": {},
   "source": [
    "## A Curious Number Machine\n",
    "\n",
    "The characters in the discussion are Inspector Leslie Craig of Scotland Yard and his friend, the inventor Norman McCulloch.\n",
    "> Now this story takes place in the days before modern computers were invented, but McCulloch had put together a crude mechanical computer of a sort.\n",
    "\n",
    "McCulloch explains how his mahcine works with numbers:\n",
    ">(McCulloch) To begin with, by a number I mean a positive whole number... the only numbers my machine handles are those in which 0 does not occur... given two numbers N, M, by NM I don't mean N times M! By NM I mean the number obtained by first writing the digits of N in the order in which they occur, then following it by the digits of M."
   ]
  },
  {
   "cell_type": "code",
   "execution_count": 1,
   "metadata": {},
   "outputs": [],
   "source": [
    "#some utilities\n",
    "def head(x):\n",
    "    if (x == None):\n",
    "        return None\n",
    "    return int(str(x)[0])\n",
    "\n",
    "def tail(x):\n",
    "    if (x == None):\n",
    "        return None\n",
    "    if (len(str(x))<2):\n",
    "        return None\n",
    "    return int(str(x)[1:len(str(x))])\n",
    "\n",
    "def hasZero(x):\n",
    "    return str(x).find(\"0\") != -1\n",
    "\n",
    "def cat(x,y):\n",
    "    return int(str(x) + str(y))"
   ]
  },
  {
   "cell_type": "code",
   "execution_count": 2,
   "metadata": {},
   "outputs": [
    {
     "name": "stdout",
     "output_type": "stream",
     "text": [
      "True\n",
      "False\n",
      "5\n",
      "67\n",
      "123456\n"
     ]
    }
   ],
   "source": [
    "print(hasZero(301))\n",
    "print(hasZero(333))\n",
    "print(head(567))\n",
    "print(tail(567))\n",
    "print(cat(123, 456))"
   ]
  },
  {
   "cell_type": "markdown",
   "metadata": {},
   "source": [
    "## Rule 1\n",
    "> (McCulloch) Let me explain to you the rules of operation. I say X produces a number Y, meaning that X is acceptable and when X is put into the machine, Y is the number that comes out. The first rule is as follows:\n",
    ">Rule 1: For any number X, 2X is acceptable (2 followed by X, not 2 times X) and 2X produces X."
   ]
  },
  {
   "cell_type": "code",
   "execution_count": 3,
   "metadata": {},
   "outputs": [],
   "source": [
    "def rule1(x):\n",
    "    if (head(x) == 2):\n",
    "        if (tail(x) != None):\n",
    "            return int(tail(x))\n",
    "\n",
    "def rule2(x):\n",
    "    return None\n",
    "\n",
    "def machine(x):\n",
    "    if (hasZero(x)):\n",
    "        return None\n",
    "    y = rule1(x)\n",
    "    if (y != None):\n",
    "        return y\n",
    "    y = rule2(x)\n",
    "    if (y != None):\n",
    "        return y\n",
    "    return None"
   ]
  },
  {
   "cell_type": "code",
   "execution_count": 4,
   "metadata": {},
   "outputs": [
    {
     "name": "stdout",
     "output_type": "stream",
     "text": [
      "None\n",
      "None\n",
      "29\n"
     ]
    }
   ],
   "source": [
    "print(machine(201))\n",
    "print(machine(301))\n",
    "print(machine(229))"
   ]
  },
  {
   "cell_type": "markdown",
   "metadata": {},
   "source": [
    "## Rule 2\n",
    ">(McCulloch) For any number X, the number X2X plays a particularly prominent role; I call the number X2X the associate of the number X. \n",
    "Rule 2: For any numbers X and Y, if X produces Y, then 3X produces the associate of Y."
   ]
  },
  {
   "cell_type": "code",
   "execution_count": 5,
   "metadata": {},
   "outputs": [],
   "source": [
    "def associate(x):\n",
    "    if (x == None):\n",
    "        return None\n",
    "    return int(str(x) + \"2\" + str(x)) \n",
    "\n",
    "def rule2(x):\n",
    "    if (x == None):\n",
    "        return None \n",
    "    if (head(x) != 3):\n",
    "        return None\n",
    "    y = machine(tail(x))\n",
    "    if (y != None):\n",
    "        return associate(y)"
   ]
  },
  {
   "cell_type": "code",
   "execution_count": 6,
   "metadata": {},
   "outputs": [
    {
     "name": "stdout",
     "output_type": "stream",
     "text": [
      "727\n",
      "5862586\n",
      "7272727\n",
      "None\n"
     ]
    }
   ],
   "source": [
    "print(machine(327))\n",
    "print(machine(32586))\n",
    "print(machine(3327))\n",
    "print(machine(3332))\n"
   ]
  },
  {
   "cell_type": "markdown",
   "metadata": {},
   "source": [
    "> (McCulloch) No number consisting entirely of 3's is acceptable. Also 32 is not acceptable, nor is 332, nore any string of 3's followed by 2. But for any nmber X, 2X is acceptable; 32X is acceptable; 332X and 3332X is acceptable; and so forth. In short, the only acceptable numbers are 2X, 32X, 332X, 3332X, and any string of 3's followed by 2X. And, 2X produces X, 32X produces the associate of X, 332X produces the associate of the associate of X, which it is convenient to call the double associate of X."
   ]
  },
  {
   "cell_type": "code",
   "execution_count": 7,
   "metadata": {},
   "outputs": [
    {
     "name": "stdout",
     "output_type": "stream",
     "text": [
      "None\n",
      "None\n",
      "None\n",
      "None\n",
      "1\n",
      "121\n",
      "1212121\n"
     ]
    }
   ],
   "source": [
    "print(machine(2))\n",
    "print(machine(3))\n",
    "print(machine(32))\n",
    "print(machine(332))\n",
    "print(machine(21))\n",
    "print(machine(321))\n",
    "print(machine(3321))"
   ]
  },
  {
   "cell_type": "markdown",
   "metadata": {},
   "source": [
    "## Some Curious Properties\n",
    "> (Craig) ... I would like to know just what are the curious features of this machine to which you alluded.\n",
    "\n",
    "### section 1, page 113\n",
    ">(McCulloch) To begin with a simple example... there is a number N which produces itself; when you put the number N in, N comes out. Can you find such a number?"
   ]
  },
  {
   "cell_type": "code",
   "execution_count": 8,
   "metadata": {},
   "outputs": [
    {
     "name": "stdout",
     "output_type": "stream",
     "text": [
      "323\n",
      "323\n",
      "True\n"
     ]
    }
   ],
   "source": [
    "x = 323\n",
    "x1 = machine(x)\n",
    "print(x)\n",
    "print(x1)\n",
    "print(x == x1)"
   ]
  },
  {
   "cell_type": "markdown",
   "metadata": {},
   "source": [
    "**The number 323 is a fixed point for McCulloch's machine.**"
   ]
  },
  {
   "cell_type": "markdown",
   "metadata": {},
   "source": [
    "### section 2, page 113\n",
    ">(McCulloch) There is a number N which produces its own associate, when you put N in N2N comes out."
   ]
  },
  {
   "cell_type": "code",
   "execution_count": 9,
   "metadata": {},
   "outputs": [
    {
     "name": "stdout",
     "output_type": "stream",
     "text": [
      "33233\n",
      "33233233233\n",
      "33233233233\n",
      "True\n"
     ]
    }
   ],
   "source": [
    "x = 33233\n",
    "x1 = machine(x)\n",
    "x2 = associate(x)\n",
    "print(x)\n",
    "print(x1)\n",
    "print(x2)\n",
    "print(x1 == x2)"
   ]
  },
  {
   "cell_type": "markdown",
   "metadata": {},
   "source": [
    "Embedding the fixed point 323 inside of 3x3 gives the number that maps to its own associate.\n",
    "So, for A = 33233, then machine(A) = associate(A)."
   ]
  },
  {
   "cell_type": "markdown",
   "metadata": {},
   "source": [
    "### section 5, page 114\n",
    "> (McCulloch) Next, there is a number N which produces 7N, can you find it?"
   ]
  },
  {
   "cell_type": "code",
   "execution_count": 10,
   "metadata": {},
   "outputs": [
    {
     "name": "stdout",
     "output_type": "stream",
     "text": [
      "323-->323, 7N:7323 equal: False\n",
      "3273-->73273, 7N:73273 equal: True\n"
     ]
    }
   ],
   "source": [
    "def map7(x):\n",
    "    result = str(cat(7,x) == machine(x))\n",
    "    print (str(x) + \"-->\" + str(machine(x)) + \", 7N:\" + str(cat(7,x)) + \" equal: \" + result)\n",
    "\n",
    "# start building off the identity\n",
    "map7(323)\n",
    "map7(3273)"
   ]
  },
  {
   "cell_type": "markdown",
   "metadata": {},
   "source": [
    "Again for this case, building off the fixed point 323, we find that if N = 3273, machine(N) = 7N."
   ]
  },
  {
   "cell_type": "markdown",
   "metadata": {},
   "source": [
    "### section 6, page 114\n",
    "> (McColloch) Is there a number N such that 3N produces the associate of N? i.e. 3N --> N2N"
   ]
  },
  {
   "cell_type": "code",
   "execution_count": 11,
   "metadata": {},
   "outputs": [
    {
     "name": "stdout",
     "output_type": "stream",
     "text": [
      "323\n",
      "3232323\n"
     ]
    }
   ],
   "source": [
    "print(machine(323))\n",
    "print(machine(3323))"
   ]
  },
  {
   "cell_type": "markdown",
   "metadata": {},
   "source": [
    "Building off the fixed point F = 323. By rule 2, 3F produces the associate of what F produces, but F just produces F, so 3F will produce F2F as required.\n",
    "So, the N we want here is just the fixed point F = 323."
   ]
  },
  {
   "cell_type": "markdown",
   "metadata": {},
   "source": [
    "### section 7, page 114\n",
    "> (McColloch) And is there an N which produces the associate of 3N.\n",
    "\n",
    "The associate of 3N would be 3N23N."
   ]
  },
  {
   "cell_type": "code",
   "execution_count": 12,
   "metadata": {
    "scrolled": true
   },
   "outputs": [
    {
     "name": "stdout",
     "output_type": "stream",
     "text": [
      "332333-->333233323332333 | 333233323332333:True\n"
     ]
    }
   ],
   "source": [
    "def map3N(x):\n",
    "    r = str(machine(x) == associate(cat(3,x)) )\n",
    "    print(str(x) + \"-->\" + str(machine(x)) + \" | \" + str(associate(cat(3,x))) + \":\" + r)\n",
    "\n",
    "map3N(332333)"
   ]
  },
  {
   "cell_type": "markdown",
   "metadata": {},
   "source": [
    "### section 8, page 114\n",
    "Along the way, we noticed that N = 3233 produces 3N, just as N = 3273 produces 7N. Generally N=32X3 produces X32X3. This principle will be called *McCulloch's Law*"
   ]
  },
  {
   "cell_type": "code",
   "execution_count": 13,
   "metadata": {},
   "outputs": [
    {
     "name": "stdout",
     "output_type": "stream",
     "text": [
      "3-->3233, 3233-->33233 | 33233\n",
      "54-->32543, 32543-->5432543 | 5432543\n",
      "1234-->3212343, 3212343-->12343212343 | 12343212343\n"
     ]
    }
   ],
   "source": [
    "def mapMcL(a):\n",
    "    y = int(\"32\" + str(a) + \"3\")\n",
    "    ay = cat(a,y)\n",
    "    print(str(a) + \"-->\" + str(y) + \", \" + str(y) +\"-->\" + str(machine(y)) + \" | \" + str((ay)))\n",
    "\n",
    "mapMcL(3)\n",
    "mapMcL(54)\n",
    "mapMcL(1234)"
   ]
  },
  {
   "cell_type": "markdown",
   "metadata": {},
   "source": [
    "### section 9, page 115\n",
    ">(McColloch) Now, given a number A, is there necessarily some Y such that Y produces the associate of AY? for example, is there a number Y that produces the associate of 56Y, and if so, what number does this?"
   ]
  },
  {
   "cell_type": "markdown",
   "metadata": {},
   "source": [
    "We saw that N = 332333 produced the associate of 3N... so replacing one of those 3's with A may work..."
   ]
  },
  {
   "cell_type": "code",
   "execution_count": 14,
   "metadata": {},
   "outputs": [
    {
     "name": "stdout",
     "output_type": "stream",
     "text": [
      "5-->332533, 332533-->533253325332533 | 533253325332533\n",
      "44-->3324433, 3324433-->4433244332443324433 | 4433244332443324433\n"
     ]
    }
   ],
   "source": [
    "def mapAY(a):\n",
    "    y = int(\"332\" + str(a) + \"33\")\n",
    "    ay = cat(a,y)\n",
    "    print(str(a) + \"-->\" + str(y) + \", \" + str(y) +\"-->\" + str(machine(y)) + \" | \" + str(associate(ay)))\n",
    "\n",
    "mapAY(5)\n",
    "mapAY(44)"
   ]
  },
  {
   "cell_type": "markdown",
   "metadata": {},
   "source": [
    "### section 10, page 115\n",
    "> (McCulloch) Another interesting thing, is that there is a number N that produces its own double associate. Can you find it?"
   ]
  },
  {
   "cell_type": "code",
   "execution_count": 15,
   "metadata": {},
   "outputs": [
    {
     "name": "stdout",
     "output_type": "stream",
     "text": [
      "3332333233323332333233323332333\n",
      "3332333233323332333233323332333\n",
      "True\n"
     ]
    }
   ],
   "source": [
    "x = 3332333\n",
    "print(machine(x))\n",
    "print(associate(associate(x)))\n",
    "print(machine(x) == associate(associate(x)))\n"
   ]
  },
  {
   "cell_type": "markdown",
   "metadata": {},
   "source": [
    "### section 11, page 115\n",
    ">(McCulloch) Also, given any number A there is a number X that produces the double associate of AX. Can you see how to find such an X, given the number A?"
   ]
  },
  {
   "cell_type": "code",
   "execution_count": 18,
   "metadata": {},
   "outputs": [
    {
     "name": "stdout",
     "output_type": "stream",
     "text": [
      "5-->33325333, 33325333-->533325333253332533325333253332533325333\n",
      "double associate of 533325333: 533325333253332533325333253332533325333\n",
      "True\n",
      "44-->333244333, 333244333-->44333244333244333244333244333244333244333244333\n",
      "double associate of 44333244333: 44333244333244333244333244333244333244333244333\n",
      "True\n"
     ]
    }
   ],
   "source": [
    "def mapDAY(a):\n",
    "    y = int(\"3332\" + str(a) + \"333\")\n",
    "    ay = cat(a,y)\n",
    "    print(str(a) + \"-->\" + str(y) + \", \" + str(y) +\"-->\" + str(machine(y)))\n",
    "    print(\"double associate of \" + str(ay) + \": \" + str(associate(associate(ay))))\n",
    "    r = (machine(y) == associate(associate(ay)))\n",
    "    print(str(r))\n",
    "\n",
    "mapDAY(5)\n",
    "mapDAY(44)"
   ]
  },
  {
   "cell_type": "markdown",
   "metadata": {},
   "source": [
    "### section 19, page 117\n",
    ">Find a number N such that N produces N23"
   ]
  },
  {
   "cell_type": "code",
   "execution_count": 19,
   "metadata": {},
   "outputs": [
    {
     "name": "stdout",
     "output_type": "stream",
     "text": [
      "3232323\n",
      "3232323\n"
     ]
    }
   ],
   "source": [
    "x = 32323\n",
    "print(machine(x))\n",
    "print(cat(x, 23))\n",
    "# 32323 produces the associate of what 2323 produces. 2323 produces 323 associate of 323 is 3232323, \n",
    "# which is 32323 23 as required."
   ]
  },
  {
   "cell_type": "code",
   "execution_count": null,
   "metadata": {},
   "outputs": [],
   "source": []
  },
  {
   "cell_type": "code",
   "execution_count": null,
   "metadata": {},
   "outputs": [],
   "source": []
  }
 ],
 "metadata": {
  "kernelspec": {
   "display_name": "Python 3",
   "language": "python",
   "name": "python3"
  },
  "language_info": {
   "codemirror_mode": {
    "name": "ipython",
    "version": 3
   },
   "file_extension": ".py",
   "mimetype": "text/x-python",
   "name": "python",
   "nbconvert_exporter": "python",
   "pygments_lexer": "ipython3",
   "version": "3.6.5"
  }
 },
 "nbformat": 4,
 "nbformat_minor": 2
}
