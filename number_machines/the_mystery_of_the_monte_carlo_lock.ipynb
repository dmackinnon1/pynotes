{
 "cells": [
  {
   "cell_type": "markdown",
   "metadata": {},
   "source": [
    "# Notebooks for The Mystery of the Monte Carlo Lock \n",
    "Part 3 of \"The Lady or the Tiger?\" by Raymond Smullyan features explorations of various \"number machines,\" casting light on concepts of computation and computability. In some editions of the book, this section was called \"a mathematical novel that features Godel's great discovery.\"\n",
    "\n",
    "- Chapter 11. [A Curious Number Machine](a_curious_number_machine.ipynb)\n",
    "- Chapter 12. [Craig's Law](craigs_law.ipynb)\n",
    "- Chapter 13. [Ferguson's Laws](fergusons_laws.ipynb)\n",
    "- Chapter 14. [The Key](the_key.ipynb)"
   ]
  },
  {
   "cell_type": "code",
   "execution_count": null,
   "metadata": {},
   "outputs": [],
   "source": []
  }
 ],
 "metadata": {
  "kernelspec": {
   "display_name": "Python 3",
   "language": "python",
   "name": "python3"
  },
  "language_info": {
   "codemirror_mode": {
    "name": "ipython",
    "version": 3
   },
   "file_extension": ".py",
   "mimetype": "text/x-python",
   "name": "python",
   "nbconvert_exporter": "python",
   "pygments_lexer": "ipython3",
   "version": "3.5.2"
  }
 },
 "nbformat": 4,
 "nbformat_minor": 2
}
