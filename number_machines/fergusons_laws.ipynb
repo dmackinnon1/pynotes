{
 "cells": [
  {
   "cell_type": "markdown",
   "metadata": {},
   "source": [
    "# Notebooks for The Mystery of the Monte Carlo Lock \n",
    "Part 3 of \"The Lady or the Tiger?\" by Raymond Smullyan features explorations of various \"number machines,\" casting light on concepts of computation and computability.\n",
    "\n",
    "The first notebook in this set is [here](the_mystery_of_the_monte_carlo_lock.ipynb)."
   ]
  },
  {
   "cell_type": "code",
   "execution_count": null,
   "metadata": {},
   "outputs": [],
   "source": []
  }
 ],
 "metadata": {
  "kernelspec": {
   "display_name": "Python 3",
   "language": "python",
   "name": "python3"
  },
  "language_info": {
   "codemirror_mode": {
    "name": "ipython",
    "version": 3
   },
   "file_extension": ".py",
   "mimetype": "text/x-python",
   "name": "python",
   "nbconvert_exporter": "python",
   "pygments_lexer": "ipython3",
   "version": "3.6.5"
  }
 },
 "nbformat": 4,
 "nbformat_minor": 2
}
