{
 "cells": [
  {
   "cell_type": "markdown",
   "metadata": {},
   "source": [
    "# The forest of Forgetfulness\n",
    "\n",
    "A workbook for \"The Forest of Forgetfulness\" puzzles, as described in *What is the Name of This Book?* by Raymond Smullyan."
   ]
  },
  {
   "cell_type": "markdown",
   "metadata": {},
   "source": [
    "## The Lion and the Unicorn\n",
    "When Alice entered the Forest of Forgetfulness, she did not forget *everything*, only certain things. She often forgot her name, and the one thing she was most likely to forget was the day of the week. Now, the Lion and the Unicorn were frequent visitors to the forest. These two are strange creatures. The Lion lies on **Mondays**, **Tuesdays**, and **Wednesdays**, and tells the truth on the other days of the week. The Unicorn, on the other hand, lies on **Thursdays**, **Fridays**, and **Saturdays**, but tells the truth on other days of the week."
   ]
  },
  {
   "cell_type": "code",
   "execution_count": 78,
   "metadata": {},
   "outputs": [
    {
     "name": "stdout",
     "output_type": "stream",
     "text": [
      "['Monday', 'Tuesday', 'Wednesday', 'Thursday', 'Friday', 'Saturday', 'Sunday']\n"
     ]
    }
   ],
   "source": [
    "# first we define the days of the week\n",
    "daysOfWeek = ['Monday', 'Tuesday', 'Wednesday', 'Thursday', 'Friday', 'Saturday', 'Sunday']\n",
    "print(daysOfWeek)"
   ]
  },
  {
   "cell_type": "code",
   "execution_count": 80,
   "metadata": {},
   "outputs": [],
   "source": [
    "# if we say one of several days was yesterday, return the possible days for 'today'\n",
    "def fromYesterdays(yesterdays):\n",
    "    newList = []\n",
    "    for day in yesterdays:\n",
    "        idx = (daysOfWeek.index(day) + 1) % (len(daysOfWeek))\n",
    "        newList.append(daysOfWeek[idx])\n",
    "    return newList"
   ]
  },
  {
   "cell_type": "code",
   "execution_count": 56,
   "metadata": {},
   "outputs": [
    {
     "data": {
      "text/plain": [
       "['Wednesday', 'Monday']"
      ]
     },
     "execution_count": 56,
     "metadata": {},
     "output_type": "execute_result"
    }
   ],
   "source": [
    "fromYesterdays(['Tuesday','Sunday'])"
   ]
  },
  {
   "cell_type": "code",
   "execution_count": 81,
   "metadata": {},
   "outputs": [],
   "source": [
    "# if we say one of several days will be tomorrow, return the possible days for 'today'\n",
    "def fromTomorrows(tomorrows):\n",
    "    newList = []\n",
    "    for day in tomorrows:\n",
    "        idx = (daysOfWeek.index(day) - 1) % (len(daysOfWeek))\n",
    "        newList.append(daysOfWeek[idx])\n",
    "    return newList"
   ]
  },
  {
   "cell_type": "code",
   "execution_count": 58,
   "metadata": {},
   "outputs": [
    {
     "data": {
      "text/plain": [
       "['Sunday', 'Monday', 'Saturday']"
      ]
     },
     "execution_count": 58,
     "metadata": {},
     "output_type": "execute_result"
    }
   ],
   "source": [
    "fromTomorrows(['Monday','Tuesday','Sunday'])"
   ]
  },
  {
   "cell_type": "code",
   "execution_count": 83,
   "metadata": {},
   "outputs": [],
   "source": [
    "# as mentioned above, these creatures lie on certain days\n",
    "lionLying =['Monday', 'Tuesday', 'Wednesday']\n",
    "unicornLying = ['Thursday', 'Friday','Saturday']"
   ]
  },
  {
   "cell_type": "code",
   "execution_count": 84,
   "metadata": {},
   "outputs": [],
   "source": [
    "# given a list of days, what are the other days of the week?\n",
    "def otherDays(days):\n",
    "    newList = []\n",
    "    for day in daysOfWeek:\n",
    "        if day not in days:\n",
    "            newList.append(day)\n",
    "    return newList"
   ]
  },
  {
   "cell_type": "code",
   "execution_count": 61,
   "metadata": {},
   "outputs": [
    {
     "data": {
      "text/plain": [
       "['Tuesday', 'Wednesday', 'Thursday', 'Friday', 'Saturday', 'Sunday']"
      ]
     },
     "execution_count": 61,
     "metadata": {},
     "output_type": "execute_result"
    }
   ],
   "source": [
    "otherDays(['Monday'])"
   ]
  },
  {
   "cell_type": "code",
   "execution_count": 62,
   "metadata": {},
   "outputs": [],
   "source": [
    "# we can find when the Lion and Unicorn are truthful\n",
    "lionTruthful = otherDays(lionLying)\n",
    "unicornTruthful = otherDays(unicornLying)"
   ]
  },
  {
   "cell_type": "code",
   "execution_count": 63,
   "metadata": {},
   "outputs": [
    {
     "name": "stdout",
     "output_type": "stream",
     "text": [
      "['Thursday', 'Friday', 'Saturday', 'Sunday']\n"
     ]
    }
   ],
   "source": [
    "print(lionTruthful)"
   ]
  },
  {
   "cell_type": "code",
   "execution_count": 85,
   "metadata": {},
   "outputs": [],
   "source": [
    "# return the days of the week that are common to both lists\n",
    "def intersect(a, b):\n",
    "    newList = []\n",
    "    for item in a:\n",
    "        if item in b:\n",
    "            newList.append(item)\n",
    "    return newList\n",
    "\n",
    "# return the days of the week that appear in either list\n",
    "def union(a, b):\n",
    "    newList = a[:]\n",
    "    for item in b:\n",
    "        if item not in newList:\n",
    "            newList.append(item)\n",
    "    return newList"
   ]
  },
  {
   "cell_type": "markdown",
   "metadata": {},
   "source": [
    "There is only one day where both the Lion and the Unicorn are both truthful."
   ]
  },
  {
   "cell_type": "code",
   "execution_count": 65,
   "metadata": {},
   "outputs": [
    {
     "data": {
      "text/plain": [
       "['Sunday']"
      ]
     },
     "execution_count": 65,
     "metadata": {},
     "output_type": "execute_result"
    }
   ],
   "source": [
    "intersect(lionTruthful,unicornTruthful)"
   ]
  },
  {
   "cell_type": "markdown",
   "metadata": {},
   "source": [
    "There is no day when they are both lying"
   ]
  },
  {
   "cell_type": "code",
   "execution_count": 86,
   "metadata": {},
   "outputs": [
    {
     "data": {
      "text/plain": [
       "[]"
      ]
     },
     "execution_count": 86,
     "metadata": {},
     "output_type": "execute_result"
    }
   ],
   "source": [
    "intersect(lionLying, unicornLying )"
   ]
  },
  {
   "cell_type": "markdown",
   "metadata": {},
   "source": [
    "## Problem 1\n",
    "One day Alice met the Lion and the Unicorn resting under a tree. They made the following statements:\n",
    "> **Lion**: Yesterday was one of my lying days.\n",
    "\n",
    "> **Unicorn**: Yesterday was one of my lying days too."
   ]
  },
  {
   "cell_type": "code",
   "execution_count": 68,
   "metadata": {},
   "outputs": [
    {
     "name": "stdout",
     "output_type": "stream",
     "text": [
      "lion could be saying this on ['Thursday', 'Monday']\n",
      "unicorn could be saying this on ['Sunday', 'Thursday']\n",
      "the solution is that today is Thursday\n"
     ]
    }
   ],
   "source": [
    "lionPositive = intersect(fromYesterdays(lionLying), lionTruthful)\n",
    "lionNegative = intersect(otherDays(fromYesterdays(lionLying)), lionLying)\n",
    "lionDays = union(lionPositive, lionNegative)\n",
    "unicornPositive = intersect(fromYesterdays(unicornLying), unicornTruthful)\n",
    "unicornNegative = intersect(otherDays(fromYesterdays(unicornLying)),unicornLying)\n",
    "unicornDays = union(unicornPositive, unicornNegative)\n",
    "print('lion could be saying this on ' + str(lionDays))\n",
    "print('unicorn could be saying this on ' + str(unicornDays))\n",
    "validDays = intersect(lionDays, unicornDays)\n",
    "if (len(validDays) == 1):\n",
    "    print('the solution is that today is ' + validDays[0])\n",
    "else :\n",
    "    print('there is no unique solution, it could be one of these ' + str(validDays))"
   ]
  },
  {
   "cell_type": "code",
   "execution_count": 73,
   "metadata": {},
   "outputs": [],
   "source": [
    "# let's make the process above into a function\n",
    "def solve(lionStatement, unicornStatement):\n",
    "    lionPositive = intersect(lionStatement, lionTruthful)\n",
    "    lionNegative = intersect(otherDays(lionStatement), lionLying)\n",
    "    lionDays = union(lionPositive, lionNegative)\n",
    "    unicornPositive = intersect(unicornStatement, unicornTruthful)\n",
    "    unicornNegative = intersect(otherDays(unicornStatement),unicornLying)\n",
    "    unicornDays = union(unicornPositive, unicornNegative)\n",
    "    print('The lion could be saying this on ' + str(lionDays))\n",
    "    print('The unicorn could be saying this on ' + str(unicornDays))\n",
    "    validDays = intersect(lionDays, unicornDays)\n",
    "    if (len(validDays) == 1):\n",
    "        print('So, the solution is that today is ' + validDays[0])\n",
    "    else :\n",
    "        print('Unfortunately, there is no unique solution, it could be one of these ' + str(validDays))\n",
    "    "
   ]
  },
  {
   "cell_type": "code",
   "execution_count": 74,
   "metadata": {},
   "outputs": [
    {
     "name": "stdout",
     "output_type": "stream",
     "text": [
      "The lion could be saying this on ['Thursday', 'Monday']\n",
      "The unicorn could be saying this on ['Sunday', 'Thursday']\n",
      "So, the solution is that today is Thursday\n"
     ]
    }
   ],
   "source": [
    "solve(fromYesterdays(lionLying), fromYesterdays(unicornLying))"
   ]
  },
  {
   "cell_type": "markdown",
   "metadata": {},
   "source": [
    "## Problem 2\n",
    "One day Alice met the Lion and the Unicorn resting under a tree. They made the following statements:\n",
    "> Lion: Yesterday was one of my truthful days.\n",
    "\n",
    "> Unicorn: Yesterday was one of my truthful days too."
   ]
  },
  {
   "cell_type": "code",
   "execution_count": 75,
   "metadata": {},
   "outputs": [
    {
     "name": "stdout",
     "output_type": "stream",
     "text": [
      "The lion could be saying this on ['Friday', 'Saturday', 'Sunday', 'Tuesday', 'Wednesday']\n",
      "The unicorn could be saying this on ['Tuesday', 'Wednesday', 'Monday', 'Friday', 'Saturday']\n",
      "Unfortunately, there is no unique solution, it could be one of these ['Friday', 'Saturday', 'Tuesday', 'Wednesday']\n"
     ]
    }
   ],
   "source": [
    "solve(fromYesterdays(lionTruthful), fromYesterdays(unicornTruthful))"
   ]
  },
  {
   "cell_type": "markdown",
   "metadata": {},
   "source": [
    "## Problem 3\n",
    "ne day Alice met the Lion and the Unicorn resting under a tree. They made the following statements:\n",
    "> Lion: Yesterday was one of my truthful days.\n",
    "\n",
    "> Unicorn: Yes, yesterday was one of Lion's truthful days"
   ]
  },
  {
   "cell_type": "code",
   "execution_count": 87,
   "metadata": {},
   "outputs": [
    {
     "name": "stdout",
     "output_type": "stream",
     "text": [
      "The lion could be saying this on ['Friday', 'Saturday', 'Sunday', 'Tuesday', 'Wednesday']\n",
      "The unicorn could be saying this on ['Sunday', 'Monday', 'Thursday']\n",
      "So, the solution is that today is Sunday\n"
     ]
    }
   ],
   "source": [
    "solve(fromYesterdays(lionTruthful), fromYesterdays(lionTruthful))"
   ]
  },
  {
   "cell_type": "markdown",
   "metadata": {},
   "source": [
    "## Problem 4\n",
    "One day Alice met the Lion and the Unicorn resting under a tree. They made the following statements:\n",
    "> Lion: Yesterday was one of my truthful days.\n",
    "\n",
    "> Unicorn: Actually, it was one of his lying days"
   ]
  },
  {
   "cell_type": "code",
   "execution_count": 93,
   "metadata": {},
   "outputs": [
    {
     "name": "stdout",
     "output_type": "stream",
     "text": [
      "The lion could be saying this on ['Friday', 'Saturday', 'Sunday', 'Tuesday', 'Wednesday']\n",
      "The unicorn could be saying this on ['Tuesday', 'Wednesday', 'Friday', 'Saturday']\n",
      "Unfortunately, there is no unique solution, it could be one of these ['Friday', 'Saturday', 'Tuesday', 'Wednesday']\n"
     ]
    }
   ],
   "source": [
    "solve(fromYesterdays(lionTruthful), fromYesterdays(lionLying))"
   ]
  },
  {
   "cell_type": "markdown",
   "metadata": {},
   "source": [
    "## Problem 5\n",
    "One day Alice met the Lion and the Unicorn resting under a tree. They made the following statements:\n",
    "> Lion: Tomorrow is one  of my truthful days.\n",
    "\n",
    "> Unicorn: Yesterday was one of my lying days."
   ]
  },
  {
   "cell_type": "code",
   "execution_count": 90,
   "metadata": {},
   "outputs": [
    {
     "name": "stdout",
     "output_type": "stream",
     "text": [
      "The lion could be saying this on ['Thursday', 'Friday', 'Saturday', 'Monday', 'Tuesday']\n",
      "The unicorn could be saying this on ['Sunday', 'Thursday']\n",
      "So, the solution is that today is Thursday\n"
     ]
    }
   ],
   "source": [
    "solve(fromTomorrows(lionTruthful), fromYesterdays(unicornLying))"
   ]
  },
  {
   "cell_type": "markdown",
   "metadata": {},
   "source": [
    "# All Possible Puzzles\n",
    "Using these puzzles as a model, we can have the Lion and the Unicorn make a statement about either yesterday, today, or tomorrow being one of the lying or truthful days for themselves, or the other."
   ]
  },
  {
   "cell_type": "code",
   "execution_count": 101,
   "metadata": {},
   "outputs": [
    {
     "name": "stdout",
     "output_type": "stream",
     "text": [
      "[['Monday', 'Tuesday', 'Wednesday'], ['Sunday', 'Monday', 'Tuesday'], ['Tuesday', 'Wednesday', 'Thursday'], ['Thursday', 'Friday', 'Saturday', 'Sunday'], ['Wednesday', 'Thursday', 'Friday', 'Saturday'], ['Friday', 'Saturday', 'Sunday', 'Monday'], ['Thursday', 'Friday', 'Saturday'], ['Wednesday', 'Thursday', 'Friday'], ['Friday', 'Saturday', 'Sunday'], ['Monday', 'Tuesday', 'Wednesday', 'Sunday'], ['Sunday', 'Monday', 'Tuesday', 'Saturday'], ['Tuesday', 'Wednesday', 'Thursday', 'Monday']]\n",
      "\n",
      "There are 12 possible statements each creature can make\n"
     ]
    }
   ],
   "source": [
    "# let's define a function to help us generate all the different lists of days that might be talked about\n",
    "def variations(statements):\n",
    "    return [statements, fromTomorrows(statements), fromYesterdays(statements)]\n",
    "\n",
    "# now create a list of lists\n",
    "allDays = [];\n",
    "allDays.extend(variations(lionLying))\n",
    "allDays.extend(variations(lionTruthful))\n",
    "allDays.extend(variations(unicornLying))\n",
    "allDays.extend(variations(unicornTruthful))\n",
    "\n",
    "print(allDays)\n",
    "print()\n",
    "print('There are ' + str(len(allDays)) + ' possible statements each creature can make')"
   ]
  },
  {
   "cell_type": "code",
   "execution_count": 92,
   "metadata": {},
   "outputs": [],
   "source": [
    "# a variation on the solve function that j# let's make the process above into a function\n",
    "def hasSolution(lionStatement, unicornStatement):\n",
    "    lionPositive = intersect(lionStatement, lionTruthful)\n",
    "    lionNegative = intersect(otherDays(lionStatement), lionLying)\n",
    "    lionDays = union(lionPositive, lionNegative)\n",
    "    unicornPositive = intersect(unicornStatement, unicornTruthful)\n",
    "    unicornNegative = intersect(otherDays(unicornStatement),unicornLying)\n",
    "    unicornDays = union(unicornPositive, unicornNegative)\n",
    "    validDays = intersect(lionDays, unicornDays)\n",
    "    return (len(validDays) == 1)\n"
   ]
  },
  {
   "cell_type": "code",
   "execution_count": 96,
   "metadata": {},
   "outputs": [
    {
     "data": {
      "text/plain": [
       "False"
      ]
     },
     "execution_count": 96,
     "metadata": {},
     "output_type": "execute_result"
    }
   ],
   "source": [
    "# test the above\n",
    "hasSolution(fromTomorrows(lionTruthful), fromYesterdays(lionLying))"
   ]
  },
  {
   "cell_type": "code",
   "execution_count": 99,
   "metadata": {},
   "outputs": [
    {
     "name": "stdout",
     "output_type": "stream",
     "text": [
      "We found 43 puzzles with solutions out of 144\n"
     ]
    }
   ],
   "source": [
    "solutionCount = 0\n",
    "totalCount = 0\n",
    "for s1 in allDays:\n",
    "    for s2 in allDays:\n",
    "        totalCount = totalCount + 1\n",
    "        if hasSolution(s1,s2):\n",
    "            solutionCount = solutionCount + 1\n",
    "print('We found ' + str(solutionCount) + ' puzzles with solutions out of ' + str(totalCount))            "
   ]
  },
  {
   "cell_type": "code",
   "execution_count": null,
   "metadata": {},
   "outputs": [],
   "source": []
  }
 ],
 "metadata": {
  "kernelspec": {
   "display_name": "Python 3",
   "language": "python",
   "name": "python3"
  },
  "language_info": {
   "codemirror_mode": {
    "name": "ipython",
    "version": 3
   },
   "file_extension": ".py",
   "mimetype": "text/x-python",
   "name": "python",
   "nbconvert_exporter": "python",
   "pygments_lexer": "ipython3",
   "version": "3.5.2"
  }
 },
 "nbformat": 4,
 "nbformat_minor": 2
}
